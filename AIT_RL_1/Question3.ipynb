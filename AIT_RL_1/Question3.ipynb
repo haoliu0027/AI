{
 "cells": [
  {
   "cell_type": "code",
   "execution_count": 1,
   "metadata": {},
   "outputs": [],
   "source": [
    "import numpy as np\n",
    "import pandas as pd\n",
    "import matplotlib.pyplot as plt"
   ]
  },
  {
   "cell_type": "markdown",
   "metadata": {},
   "source": [
    "## 0:left; 1:down; 2:Right; 3:Up"
   ]
  },
  {
   "cell_type": "code",
   "execution_count": 5,
   "metadata": {},
   "outputs": [],
   "source": [
    "# penalty = -10\n",
    "Reward = np.array([[0, 0, 0, 0],[0, 0, 0, 0], [0, 0, 0, 0], [0, 0, -2, 0], [0, -2, 0, -2],\n",
    "                   [-2, 0, 0, 0],[0, 0, 0, 0],[0, 0, -2, 0],[0, -2, 0, -2],[-2, 0, 0, 0],\n",
    "                   [0, 0, 0, 0],[0, 1, 8, 1],[0, 0, 0, 0]])\n",
    "\n",
    "# penalty = -5\n",
    "Reward2 = np.array([[0, 0, 0, 0],[0, 0, 0, 0], [0, 0, 0, 0], [0, 0, -1, 0], [0, -1, 0, -1],\n",
    "                   [-1, 0, 0, 0],[0, 0, 0, 0],[0, 0, -1, 0],[0, -1, 0, -1],[-1, 0, 0, 0],\n",
    "                   [0, 0, 0, 0],[0, 1, 8, 1], [0, 0, 0, 0]])"
   ]
  },
  {
   "cell_type": "code",
   "execution_count": 6,
   "metadata": {},
   "outputs": [
    {
     "name": "stdout",
     "output_type": "stream",
     "text": [
      "(13, 13)\n"
     ]
    }
   ],
   "source": [
    "Tleft = np.array([[1.0, 0.0, 0.0, 0.0, 0.0, 0.0, 0.0, 0.0, 0.0, 0.0, 0.0, 0.0, 0.0],\n",
    "                  [0.8, 0.2, 0.0, 0.0, 0.0, 0.0, 0.0, 0.0, 0.0, 0.0, 0.0, 0.0, 0.0],\n",
    "                  [0.0, 0.8, 0.2, 0.0, 0.0, 0.0, 0.0, 0.0, 0.0, 0.0, 0.0, 0.0, 0.0],\n",
    "                  [0.0, 0.0, 0.8, 0.2, 0.0, 0.0, 0.0, 0.0, 0.0, 0.0, 0.0, 0.0, 0.0],\n",
    "                  [0.0, 0.0, 0.0, 0.8, 0.2, 0.0, 0.0, 0.0, 0.0, 0.0, 0.0, 0.0, 0.0],\n",
    "                  [0.0, 0.0, 0.0, 0.0, 0.8, 0.2, 0.0, 0.0, 0.0, 0.0, 0.0, 0.0, 0.0],\n",
    "                  [0.0, 0.0, 0.0, 0.0, 0.0, 0.8, 0.2, 0.0, 0.0, 0.0, 0.0, 0.0, 0.0],\n",
    "                  [0.0, 0.0, 0.0, 0.0, 0.0, 0.0, 0.8, 0.2, 0.0, 0.0, 0.0, 0.0, 0.0],\n",
    "                  [0.0, 0.0, 0.0, 0.0, 0.0, 0.0, 0.0, 0.8, 0.2, 0.0, 0.0, 0.0, 0.0],\n",
    "                  [0.0, 0.0, 0.0, 0.0, 0.0, 0.0, 0.0, 0.0, 0.8, 0.2, 0.0, 0.0, 0.0],\n",
    "                  [0.0, 0.0, 0.0, 0.0, 0.0, 0.0, 0.0, 0.0, 0.0, 0.8, 0.2, 0.0, 0.0],\n",
    "                  [0.0, 0.0, 0.0, 0.0, 0.0, 0.0, 0.0, 0.0, 0.0, 0.0, 0.8, 0.2, 0.0],\n",
    "                  [0.0, 0.0, 0.0, 0.0, 0.0, 0.0, 0.0, 0.0, 0.0, 0.0, 0.0, 0.0, 0.0]])\n",
    "print(Tleft.shape)\n",
    "Tright = np.array([[0.2, 0.8, 0.0, 0.0, 0.0, 0.0, 0.0, 0.0, 0.0, 0.0, 0.0, 0.0, 0.0],\n",
    "                  [0.0, 0.2, 0.8, 0.0, 0.0, 0.0, 0.0, 0.0, 0.0, 0.0, 0.0, 0.0, 0.0],\n",
    "                  [0.0, 0.0, 0.2, 0.8, 0.0, 0.0, 0.0, 0.0, 0.0, 0.0, 0.0, 0.0, 0.0],\n",
    "                  [0.0, 0.0, 0.0, 0.2, 0.8, 0.0, 0.0, 0.0, 0.0, 0.0, 0.0, 0.0, 0.0],\n",
    "                  [0.0, 0.0, 0.0, 0.0, 0.2, 0.8, 0.0, 0.0, 0.0, 0.0, 0.0, 0.0, 0.0],\n",
    "                  [0.0, 0.0, 0.0, 0.0, 0.0, 0.2, 0.8, 0.0, 0.0, 0.0, 0.0, 0.0, 0.0],\n",
    "                  [0.0, 0.0, 0.0, 0.0, 0.0, 0.0, 0.2, 0.8, 0.0, 0.0, 0.0, 0.0, 0.0],\n",
    "                  [0.0, 0.0, 0.0, 0.0, 0.0, 0.0, 0.0, 0.2, 0.8, 0.0, 0.0, 0.0, 0.0],\n",
    "                  [0.0, 0.0, 0.0, 0.0, 0.0, 0.0, 0.0, 0.0, 0.2, 0.8, 0.0, 0.0, 0.0],\n",
    "                  [0.0, 0.0, 0.0, 0.0, 0.0, 0.0, 0.0, 0.0, 0.0, 0.2, 0.8, 0.0, 0.0],\n",
    "                  [0.0, 0.0, 0.0, 0.0, 0.0, 0.0, 0.0, 0.0, 0.0, 0.0, 0.2, 0.8, 0.0],\n",
    "                  [0.0, 0.0, 0.0, 0.0, 0.0, 0.0, 0.0, 0.0, 0.0, 0.0, 0.0, 0.2, 0.8],\n",
    "                  [0.0, 0.0, 0.0, 0.0, 0.0, 0.0, 0.0, 0.0, 0.0, 0.0, 0.0, 0.0, 0.0]])\n",
    "\n",
    "\n",
    "Tup_D = np.array([[0.9, 0.1, 0.0, 0.0, 0.0, 0.0, 0.0, 0.0, 0.0, 0.0, 0.0, 0.0, 0.0],\n",
    "                  [0.1, 0.8, 0.1, 0.0, 0.0, 0.0, 0.0, 0.0, 0.0, 0.0, 0.0, 0.0, 0.0],\n",
    "                  [0.0, 0.1, 0.8, 0.1, 0.0, 0.0, 0.0, 0.0, 0.0, 0.0, 0.0, 0.0, 0.0],\n",
    "                  [0.0, 0.0, 0.1, 0.8, 0.1, 0.0, 0.0, 0.0, 0.0, 0.0, 0.0, 0.0, 0.0],\n",
    "                  [0.0, 0.0, 0.0, 0.1, 0.8, 0.1, 0.0, 0.0, 0.0, 0.0, 0.0, 0.0, 0.0],\n",
    "                  [0.0, 0.0, 0.0, 0.0, 0.1, 0.8, 0.1, 0.0, 0.0, 0.0, 0.0, 0.0, 0.0],\n",
    "                  [0.0, 0.0, 0.0, 0.0, 0.0, 0.1, 0.8, 0.1, 0.0, 0.0, 0.0, 0.0, 0.0],\n",
    "                  [0.0, 0.0, 0.0, 0.0, 0.0, 0.0, 0.1, 0.8, 0.1, 0.0, 0.0, 0.0, 0.0],\n",
    "                  [0.0, 0.0, 0.0, 0.0, 0.0, 0.0, 0.0, 0.1, 0.8, 0.1, 0.0, 0.0, 0.0],\n",
    "                  [0.0, 0.0, 0.0, 0.0, 0.0, 0.0, 0.0, 0.0, 0.1, 0.8, 0.1, 0.0, 0.0],\n",
    "                  [0.0, 0.0, 0.0, 0.0, 0.0, 0.0, 0.0, 0.0, 0.0, 0.1, 0.8, 0.1, 0.0],\n",
    "                  [0.0, 0.0, 0.0, 0.0, 0.0, 0.0, 0.0, 0.0, 0.0, 0.0, 0.1, 0.8, 0.1],\n",
    "                  [0.0, 0.0, 0.0, 0.0, 0.0, 0.0, 0.0, 0.0, 0.0, 0.0, 0.0, 0.0, 0.0]])"
   ]
  },
  {
   "cell_type": "code",
   "execution_count": 7,
   "metadata": {},
   "outputs": [
    {
     "name": "stdout",
     "output_type": "stream",
     "text": [
      "Value-iteration converged at iteration# 26.\n",
      "[1.01709305 1.15837141 1.31925899 1.5024898  3.10005788 3.53062147\n",
      " 4.02098557 4.57945579 6.6043802  7.52165523 8.56632957 9.75609756\n",
      " 0.        ]\n",
      "the best policy:\n",
      " [2. 2. 2. 2. 2. 2. 2. 2. 2. 2. 2. 2. 0.]\n"
     ]
    },
    {
     "data": {
      "image/png": "[encoded data removed]",
      "text/plain": [
       "<Figure size 432x288 with 1 Axes>"
      ]
     },
     "metadata": {
      "needs_background": "light"
     },
     "output_type": "display_data"
    },
    {
     "data": {
      "image/png": "[encoded data removed]",
      "text/plain": [
       "<Figure size 432x288 with 1 Axes>"
      ]
     },
     "metadata": {
      "needs_background": "light"
     },
     "output_type": "display_data"
    }
   ],
   "source": [
    "def value_iteration():\n",
    "    error = [] \n",
    "    index = [] \n",
    "    value_table = np.zeros(13)\n",
    "    for i in range (800) :\n",
    "        updated_value_table = np.copy(value_table)\n",
    "        for state in range(13):\n",
    "            Q_value = []\n",
    "            for action in range(4):\n",
    "                next_states_rewards = []\n",
    "                T_table = np.zeros((13, 13))\n",
    "                if action is 0:\n",
    "                    T_table = Tleft\n",
    "                elif action is 1 or action is 3:\n",
    "                    T_table = Tup_D\n",
    "                else :\n",
    "                    T_table = Tright\n",
    "                for j in range(13):\n",
    "#                     print(\"j is \",j)\n",
    "                    if T_table[state][j] != 0:\n",
    "                        pro = T_table[state][j]\n",
    "                        next_state = j\n",
    "                        reward = Reward2[state][action]\n",
    "                        next_states_rewards.append((pro * (reward + 0.9 * updated_value_table[next_state])))\n",
    "                Q_value.append(np.sum(next_states_rewards))\n",
    "            value_table[state] = max(Q_value)\n",
    "        index.append(value_table[0])\n",
    "        error.append(np.sum(np.fabs(updated_value_table - value_table)))\n",
    "        if (np.sum(np.fabs(updated_value_table - value_table)) <= 0.0001):\n",
    "            print ('Value-iteration converged at iteration# %d.' %(i+1))\n",
    "            break\n",
    "    plt.figure(1)        \n",
    "    plt.plot(error)   \n",
    "    plt.figure(2)\n",
    "    plt.plot(index)\n",
    "    return value_table\n",
    "\n",
    "def extract_policy(value_table):\n",
    "    policy = np.zeros(13)\n",
    "    \n",
    "    for state in range(13):\n",
    "        Q_table = np.zeros(4) # len=4\n",
    "        for action in range(4):\n",
    "                next_states_rewards = []\n",
    "                T_table = np.zeros((13, 13))\n",
    "                if action is 0:\n",
    "                    T_table = Tleft\n",
    "                elif action is 1 or action is 3:\n",
    "                    T_table = Tup_D\n",
    "                else :\n",
    "                    T_table = Tright\n",
    "                for j in range(13):\n",
    "#                     print(\"j is \",j)\n",
    "                    if T_table[state][j] != 0:\n",
    "                        pro = T_table[state][j]\n",
    "                        next_state = j\n",
    "                        reward = Reward2[state][action]\n",
    "                        Q_table[action] += (pro * (reward + 0.9 * value_table[next_state]))\n",
    "        policy[state] = np.argmax(Q_table)\n",
    "\n",
    "    return policy\n",
    "\n",
    "\n",
    "if __name__ == '__main__':\n",
    "    optimal_v = value_iteration()\n",
    "    print(optimal_v)\n",
    "    \n",
    "    optimal_policy = extract_policy(optimal_v)\n",
    "    print('the best policy:\\n',optimal_policy)"
   ]
  }
 ],
 "metadata": {
  "kernelspec": {
   "display_name": "Python 3",
   "language": "python",
   "name": "python3"
  },
  "language_info": {
   "codemirror_mode": {
    "name": "ipython",
    "version": 3
   },
   "file_extension": ".py",
   "mimetype": "text/x-python",
   "name": "python",
   "nbconvert_exporter": "python",
   "pygments_lexer": "ipython3",
   "version": "3.7.5"
  }
 },
 "nbformat": 4,
 "nbformat_minor": 2
}
