{
 "cells": [
  {
   "cell_type": "code",
   "execution_count": 1,
   "metadata": {},
   "outputs": [],
   "source": [
    "import pandas as pd\n",
    "import numpy as np"
   ]
  },
  {
   "cell_type": "code",
   "execution_count": 3,
   "metadata": {},
   "outputs": [
    {
     "name": "stdout",
     "output_type": "stream",
     "text": [
      "Capital         [Brussels, New Delhi, Brasilia]\n",
      "Country                [Belgium, India, Brazil]\n",
      "Population    [11190846, 1303171035, 207847528]\n",
      "dtype: object\n",
      "     Capital  Country  Population\n",
      "0   Brussels  Belgium    11190846\n",
      "1  New Delhi    India  1303171035\n",
      "2   Brasilia   Brazil   207847528\n"
     ]
    }
   ],
   "source": [
    "data = {'Country':['Belgium', 'India', 'Brazil'],\n",
    "        'Capital':['Brussels', 'New Delhi', 'Brasilia'],\n",
    "        'Population':[11190846, 1303171035, 207847528]\n",
    "        }\n",
    "s = pd.Series(data)\n",
    "print(s)\n",
    "d = pd.DataFrame(data)\n",
    "print(d)"
   ]
  },
  {
   "cell_type": "markdown",
   "metadata": {},
   "source": [
    "\n",
    "    series, 就是一个　一维 的数据结构，它是由　ｉｎｄｅｘ　和　ｖａｌｕｅ　组成。\n",
    "    dataframe, 是一个　二维　数据结构，它由多个　ｓｅｒｉｅｓ　构成。"
   ]
  },
  {
   "cell_type": "code",
   "execution_count": null,
   "metadata": {},
   "outputs": [],
   "source": []
  }
 ],
 "metadata": {
  "kernelspec": {
   "display_name": "Python 3",
   "language": "python",
   "name": "python3"
  },
  "language_info": {
   "codemirror_mode": {
    "name": "ipython",
    "version": 3
   },
   "file_extension": ".py",
   "mimetype": "text/x-python",
   "name": "python",
   "nbconvert_exporter": "python",
   "pygments_lexer": "ipython3",
   "version": "3.6.4"
  }
 },
 "nbformat": 4,
 "nbformat_minor": 2
}
