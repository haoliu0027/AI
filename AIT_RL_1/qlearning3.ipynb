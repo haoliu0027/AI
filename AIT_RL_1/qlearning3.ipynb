{
 "cells": [
  {
   "cell_type": "code",
   "execution_count": 1,
   "metadata": {},
   "outputs": [
    {
     "name": "stdout",
     "output_type": "stream",
     "text": [
      "\r",
      "o----T\r",
      "-o---T"
     ]
    },
    {
     "name": "stderr",
     "output_type": "stream",
     "text": [
      "/home/hao/.local/lib/python3.6/site-packages/ipykernel_launcher.py:60: DeprecationWarning: \n",
      ".ix is deprecated. Please use\n",
      ".loc for label based indexing or\n",
      ".iloc for positional indexing\n",
      "\n",
      "See the documentation here:\n",
      "http://pandas.pydata.org/pandas-docs/stable/indexing.html#ix-indexer-is-deprecated\n"
     ]
    },
    {
     "name": "stdout",
     "output_type": "stream",
     "text": [
      "                                \n",
      "q_table:\n",
      "       left     right\n",
      "0  0.000000  0.003510\n",
      "1  0.000217  0.017669\n",
      "2  0.000000  0.085886\n",
      "3  0.000051  0.302924\n",
      "4  0.000000  0.745813\n",
      "5  0.000000  0.000000\n"
     ]
    }
   ],
   "source": [
    "import pandas as pd\n",
    "import random\n",
    "import time\n",
    "\n",
    "\n",
    "epsilon = 0.9   # 贪婪度 greedy\n",
    "alpha = 0.1     # 学习率\n",
    "gamma = 0.8     # 奖励递减值\n",
    "\n",
    "states = range(6)           # 状态集。从0到5\n",
    "actions = ['left', 'right'] # 动作集。也可添加动作'none'，表示停留\n",
    "rewards = [0,0,0,0,0,1]     # 奖励集。只有最后的宝藏所在位置才有奖励1，其他皆为0\n",
    "\n",
    "q_table = pd.DataFrame(data=[[0 for _ in actions] for _ in states],\n",
    "                       index=states, columns=actions)\n",
    "                       \n",
    "\n",
    "def update_env(state):\n",
    "    '''更新环境，并打印'''\n",
    "    global states\n",
    "    \n",
    "    env = list('-----T') # 环境，就是这样一个字符串(list)！！\n",
    "    if state != states[-1]:\n",
    "        env[state] = 'o'\n",
    "    print('\\r{}'.format(''.join(env)), end='')\n",
    "    time.sleep(0.1)\n",
    "                       \n",
    "def get_next_state(state, action):\n",
    "    '''对状态执行动作后，得到下一状态'''\n",
    "    global states\n",
    "    \n",
    "    # l,r,n = -1,+1,0\n",
    "    if action == 'right' and state != states[-1]: # 除非最后一个状态（位置），向右就+1\n",
    "        next_state = state + 1\n",
    "    elif action == 'left' and state != states[0]: # 除非最前一个状态（位置），向左就-1\n",
    "        next_state = state -1\n",
    "    else:\n",
    "        next_state = state\n",
    "    return next_state\n",
    "                       \n",
    "def get_valid_actions(state):\n",
    "    '''取当前状态下的合法动作集合，与reward无关！'''\n",
    "    global actions # ['left', 'right']\n",
    "    \n",
    "    valid_actions = set(actions)\n",
    "    if state == states[-1]:             # 最后一个状态（位置），则\n",
    "        valid_actions -= set(['right']) # 不能向右\n",
    "    if state == states[0]:              # 最前一个状态（位置），则\n",
    "        valid_actions -= set(['left'])  # 不能向左\n",
    "    return list(valid_actions)\n",
    "    \n",
    "for i in range(13):\n",
    "    #current_state = random.choice(states)\n",
    "    current_state = 0\n",
    "    \n",
    "    update_env(current_state) # 环境相关\n",
    "    total_steps = 0           # 环境相关\n",
    "    \n",
    "    while current_state != states[-1]:\n",
    "        if (random.uniform(0,1) > epsilon) or ((q_table.ix[current_state] == 0).all()):  # 探索\n",
    "            current_action = random.choice(get_valid_actions(current_state))\n",
    "        else:\n",
    "            current_action = q_table.ix[current_state].idxmax() # 利用（贪婪）\n",
    "\n",
    "        next_state = get_next_state(current_state, current_action)\n",
    "        next_state_q_values = q_table.ix[next_state, get_valid_actions(next_state)]\n",
    "        q_table.ix[current_state, current_action] += alpha * (rewards[next_state] + gamma * next_state_q_values.max() - q_table.ix[current_state, current_action])\n",
    "        current_state = next_state\n",
    "        \n",
    "        update_env(current_state) # 环境相关\n",
    "        total_steps += 1          # 环境相关\n",
    "        \n",
    "    print('\\rEpisode {}: total_steps = {}'.format(i, total_steps), end='') # 环境相关\n",
    "    time.sleep(2)                                                          # 环境相关\n",
    "    print('\\r                                ', end='')                    # 环境相关\n",
    "        \n",
    "print('\\nq_table:')\n",
    "print(q_table)"
   ]
  }
 ],
 "metadata": {
  "kernelspec": {
   "display_name": "Python 3",
   "language": "python",
   "name": "python3"
  },
  "language_info": {
   "codemirror_mode": {
    "name": "ipython",
    "version": 3
   },
   "file_extension": ".py",
   "mimetype": "text/x-python",
   "name": "python",
   "nbconvert_exporter": "python",
   "pygments_lexer": "ipython3",
   "version": "3.6.4"
  }
 },
 "nbformat": 4,
 "nbformat_minor": 2
}
